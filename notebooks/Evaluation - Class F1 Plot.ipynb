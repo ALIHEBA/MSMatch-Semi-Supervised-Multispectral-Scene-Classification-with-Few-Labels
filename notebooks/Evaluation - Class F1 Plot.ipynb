{
 "cells": [
  {
   "cell_type": "code",
   "execution_count": 1,
   "metadata": {},
   "outputs": [],
   "source": [
    "%%capture\n",
    "%load_ext autoreload\n",
    "%autoreload 2\n",
    "#Basic Imports\n",
    "import os,sys\n",
    "os.chdir('/home/asebaq/MSMatch')\n",
    "\n",
    "from tqdm import tqdm,trange\n",
    "import numpy as np\n",
    "import matplotlib.pyplot as plt\n",
    "from sklearn.metrics import classification_report,confusion_matrix, ConfusionMatrixDisplay\n",
    "import torch\n",
    "import pandas as pd\n",
    "\n",
    "from datasets.ssl_dataset import SSL_Dataset\n",
    "from datasets.data_utils import get_data_loader\n",
    "from utils import get_model_checkpoints\n",
    "from utils import net_builder\n",
    "from utils import clean_results_df"
   ]
  },
  {
   "cell_type": "code",
   "execution_count": 21,
   "metadata": {},
   "outputs": [],
   "source": [
    "csv_folder = \"/home/asebaq/MSMatch/cvs_folder\" #Path where tmp csv files are stored\n",
    "# folder=\"/home/asebaq/MSMatch/trained_models/rgb/RGB_50_32/eurosat_rgb/FixMatch_archefficientnet-b0_batch32_confidence0.95_lr0.03_uratio7_wd0.0005_wu1.0_seed0_numlabels50_optSGD\"\n",
    "# folder=\"/home/asebaq/MSMatch/trained_models/ms/4000/fixmatch/eurosat_ms/FixMatch_archefficientnet-b0_batch64_confidence0.95_lr0.03_uratio7_wd0.0005_wu1.0_seed0_numlabels4000_optSGD\"\n",
    "folder=\"/home/asebaq/MSMatch/trained_models/ms/50/fixmatch/eurosat_ms/FixMatch_archefficientnet-b0_batch64_confidence0.95_lr0.03_uratio7_wd0.0005_wu1.0_seed0_numlabels50_optSGD\"\n",
    "# folder=\"/home/asebaq/MSMatch/trained_models/ms/50-ndvi/fixmatch/eurosat_ms/FixMatch_archefficientnet-b0_batch64_confidence0.95_lr0.03_uratio7_wd0.0005_wu1.0_seed0_numlabels50_optSGD\"\n",
    "sort_criterion = \"numlabels\" # Accepted net, numlabels\n",
    "seed_wanted = [0,1,2] # Seed wanted (the others will be filtered)"
   ]
  },
  {
   "cell_type": "code",
   "execution_count": 22,
   "metadata": {},
   "outputs": [
    {
     "name": "stdout",
     "output_type": "stream",
     "text": [
      "/home/asebaq/MSMatch\n"
     ]
    }
   ],
   "source": [
    "!pwd "
   ]
  },
  {
   "cell_type": "markdown",
   "metadata": {},
   "source": [
    "## Initialize parameters"
   ]
  },
  {
   "cell_type": "code",
   "execution_count": 23,
   "metadata": {},
   "outputs": [
    {
     "name": "stdout",
     "output_type": "stream",
     "text": [
      "home\n"
     ]
    }
   ],
   "source": [
    "checkpoints, run_args = get_model_checkpoints(folder)\n",
    "if os.name == 'nt':\n",
    "       [print(_.split(\"\\\\\")[1]) for _ in checkpoints];\n",
    "else:\n",
    "       [print(_.split(\"/\")[1]) for _ in checkpoints];"
   ]
  },
  {
   "cell_type": "markdown",
   "metadata": {},
   "source": [
    "## Run all models"
   ]
  },
  {
   "cell_type": "code",
   "execution_count": 28,
   "metadata": {
    "scrolled": false
   },
   "outputs": [
    {
     "name": "stdout",
     "output_type": "stream",
     "text": [
      "------------ RUNNING  /home/asebaq/MSMatch/trained_models/ms/50/fixmatch/eurosat_ms/FixMatch_archefficientnet-b0_batch64_confidence0.95_lr0.03_uratio7_wd0.0005_wu1.0_seed0_numlabels50_optSGD/model_best.pth  -----------------\n",
      "{'dataset': 'eurosat_ms', 'net': 'efficientnet-b0', 'batch': 64, 'confidence': 0.95, 'lr': 0.03, 'uratio': 7, 'wd': 0.0005, 'wu': 1.0, 'seed': 0, 'numlabels': 50, 'opt': 'SGD', 'iterations': 615000, 'batch_size': 256, 'data_dir': '/home/asebaq/MSMatch/data/', 'use_train_model': False, 'load_path': '/home/asebaq/MSMatch/trained_models/ms/50/fixmatch/eurosat_ms/FixMatch_archefficientnet-b0_batch64_confidence0.95_lr0.03_uratio7_wd0.0005_wu1.0_seed0_numlabels50_optSGD/model_best.pth'}\n",
      "Using not pretrained model efficientnet-b0 ...\n"
     ]
    },
    {
     "name": "stderr",
     "output_type": "stream",
     "text": [
      "100%|██████████| 10/10 [00:52<00:00,  5.30s/it]\n"
     ]
    },
    {
     "name": "stdout",
     "output_type": "stream",
     "text": [
      "------------ PREDICTING TESTSET -----------------\n"
     ]
    },
    {
     "name": "stderr",
     "output_type": "stream",
     "text": [
      "100%|██████████| 11/11 [00:01<00:00,  6.18it/s]\n"
     ]
    }
   ],
   "source": [
    "results = []\n",
    "for checkpoint, args in zip(checkpoints,run_args):\n",
    "    print(\"------------ RUNNING \", checkpoint, \" -----------------\")\n",
    "    print(args)\n",
    "    args[\"batch_size\"] = 256\n",
    "    args[\"data_dir\"] = \"/home/asebaq/MSMatch/data/\"\n",
    "    args[\"use_train_model\"] = False\n",
    "    args[\"load_path\"] = checkpoint\n",
    "    if args[\"seed\"] in seed_wanted:\n",
    "        checkpoint_path = os.path.join(args[\"load_path\"])\n",
    "        checkpoint = torch.load(checkpoint_path,map_location='cuda:0')\n",
    "        load_model = (checkpoint[\"train_model\"] if args[\"use_train_model\"] else checkpoint[\"eval_model\"])\n",
    "        _net_builder = net_builder(args[\"net\"],False,{})\n",
    "        _eval_dset = SSL_Dataset(name=args[\"dataset\"], train=False, data_dir=args[\"data_dir\"], seed=args[\"seed\"])\n",
    "        eval_dset = _eval_dset.get_dset()\n",
    "        net = _net_builder(num_classes=_eval_dset.num_classes, in_channels=_eval_dset.num_channels)\n",
    "        net.load_state_dict(load_model)\n",
    "        if torch.cuda.is_available():\n",
    "            net.cuda()\n",
    "        net.eval()\n",
    "     \n",
    "        eval_loader = get_data_loader(eval_dset, args[\"batch_size\"], num_workers=1)\n",
    "        label_encoding = _eval_dset.label_encoding\n",
    "        inv_transf = _eval_dset.inv_transform\n",
    "    \n",
    "        \n",
    "        print(\"------------ PREDICTING TESTSET -----------------\")\n",
    "        \n",
    "        images, labels, preds = [],[],[]\n",
    "        with torch.no_grad():\n",
    "            for image, target in tqdm(eval_loader):\n",
    "                image = image.type(torch.FloatTensor).cuda()\n",
    "                logit = net(image)\n",
    "                for idx,img in enumerate(image):\n",
    "                    images.append(inv_transf(img.transpose(0,2).cpu().numpy()).transpose(0,2).numpy())\n",
    "                preds.append(logit.cpu().max(1)[1])\n",
    "                labels.append(target)\n",
    "        labels = torch.cat(labels).numpy()\n",
    "        preds = torch.cat(preds).numpy()\n",
    "        test_report = classification_report(labels, preds, target_names=label_encoding, output_dict=True)\n",
    "        test_report[\"params\"] = args\n",
    "        results.append(test_report)"
   ]
  },
  {
   "cell_type": "code",
   "execution_count": 29,
   "metadata": {},
   "outputs": [
    {
     "name": "stderr",
     "output_type": "stream",
     "text": [
      "/tmp/ipykernel_21886/1163100130.py:11: FutureWarning: The frame.append method is deprecated and will be removed from pandas in a future version. Use pandas.concat instead.\n",
      "  big_df = big_df.append(df)\n"
     ]
    }
   ],
   "source": [
    "big_df = pd.DataFrame()\n",
    "pd.set_option('display.max_columns', None)\n",
    "for result in results:\n",
    "    params = result[\"params\"]\n",
    "    df = pd.DataFrame(result)\n",
    "    df.drop(list(params.keys()),inplace=True)\n",
    "    df.drop([\"support\",\"recall\",\"precision\"],inplace=True)\n",
    "    for key,val in params.items():\n",
    "        df[key] = val\n",
    "    df = df.set_index(\"dataset\")\n",
    "    big_df = big_df.append(df)\n",
    "# print(big_df)\n",
    "small_df = clean_results_df(big_df, folder,sort_criterion, keep_per_class=True)\n",
    "small_df.to_csv(csv_folder + \"_test_results.csv\")"
   ]
  },
  {
   "cell_type": "code",
   "execution_count": 30,
   "metadata": {},
   "outputs": [
    {
     "data": {
      "text/plain": [
       "'/home/asebaq/MSMatch/cvs_folder'"
      ]
     },
     "execution_count": 30,
     "metadata": {},
     "output_type": "execute_result"
    }
   ],
   "source": [
    "csv_folder"
   ]
  },
  {
   "cell_type": "code",
   "execution_count": 31,
   "metadata": {},
   "outputs": [],
   "source": [
    "#small_df = pd.read_csv(csv_folder + \"_test_results.csv\")\n",
    "small_df = small_df.drop(labels=[\"pretrained\",\"supervised\",\"net\",\"accuracy\",\"batch\",\"confidence\",\"lr\",\"uratio\",\"wd\",\"wu\",\"opt\",\"iterations\",\"load_path\"],axis=1)\n",
    "small_df = small_df.groupby('numlabels').mean().reset_index()\n",
    "# small_df = small_df.set_index(\"numlabels\")\n",
    "small_df = small_df.reindex(sorted(small_df.columns), axis=1)\n",
    "small_df = small_df.reset_index()"
   ]
  },
  {
   "cell_type": "code",
   "execution_count": 32,
   "metadata": {},
   "outputs": [],
   "source": [
    "class_names_dict={'eurosat_rgb' : ['AnnualCrop', 'Forest', 'HerbaceousVegetation', 'Highway',\n",
    "       'Industrial', 'Pasture', 'PermanentCrop', 'Residential', 'River',\n",
    "       'SeaLake'], 'eurosat_ms' : ['AnnualCrop', 'Forest', 'HerbaceousVegetation', 'Highway',\n",
    "       'Industrial', 'Pasture', 'PermanentCrop', 'Residential', 'River',\n",
    "       'SeaLake'], 'ucm' : [\"agricultural\", \"airplane\", \"baseballdiamond\", \"beach\", \"buildings\",\"chaparral\",\"denseresidential\",\"forest\", \"freeway\", \"golfcourse\",\"harbor\", \"intersection\", \"mediumresidential\", \"mobilehomepark\",\"overpass\",\"parkinglot\",\"river\", \"runway\", \"sparseresidential\", \"storagetanks\", \"tenniscourt\"]}"
   ]
  },
  {
   "cell_type": "markdown",
   "metadata": {},
   "source": [
    "Adding info on numlabels per class."
   ]
  },
  {
   "cell_type": "code",
   "execution_count": 33,
   "metadata": {},
   "outputs": [
    {
     "name": "stderr",
     "output_type": "stream",
     "text": [
      "/tmp/ipykernel_21886/823274608.py:2: SettingWithCopyWarning: \n",
      "A value is trying to be set on a copy of a slice from a DataFrame\n",
      "\n",
      "See the caveats in the documentation: https://pandas.pydata.org/pandas-docs/stable/user_guide/indexing.html#returning-a-view-versus-a-copy\n",
      "  small_df[\"numlabels\"][n]=str(small_df[\"numlabels\"][n]) + \" (\" + str(small_df[\"numlabels\"][n]//len(class_names_dict[args['dataset']]))+\")\"\n"
     ]
    }
   ],
   "source": [
    "for n in range(len(small_df[\"numlabels\"])):\n",
    "    small_df[\"numlabels\"][n]=str(small_df[\"numlabels\"][n]) + \" (\" + str(small_df[\"numlabels\"][n]//len(class_names_dict[args['dataset']]))+\")\""
   ]
  },
  {
   "cell_type": "code",
   "execution_count": 34,
   "metadata": {},
   "outputs": [
    {
     "data": {
      "text/html": [
       "<div>\n",
       "<style scoped>\n",
       "    .dataframe tbody tr th:only-of-type {\n",
       "        vertical-align: middle;\n",
       "    }\n",
       "\n",
       "    .dataframe tbody tr th {\n",
       "        vertical-align: top;\n",
       "    }\n",
       "\n",
       "    .dataframe thead th {\n",
       "        text-align: right;\n",
       "    }\n",
       "</style>\n",
       "<table border=\"1\" class=\"dataframe\">\n",
       "  <thead>\n",
       "    <tr style=\"text-align: right;\">\n",
       "      <th></th>\n",
       "      <th>index</th>\n",
       "      <th>AnnualCrop</th>\n",
       "      <th>Forest</th>\n",
       "      <th>HerbaceousVegetation</th>\n",
       "      <th>Highway</th>\n",
       "      <th>Industrial</th>\n",
       "      <th>Pasture</th>\n",
       "      <th>PermanentCrop</th>\n",
       "      <th>Residential</th>\n",
       "      <th>River</th>\n",
       "      <th>SeaLake</th>\n",
       "      <th>numlabels</th>\n",
       "    </tr>\n",
       "  </thead>\n",
       "  <tbody>\n",
       "    <tr>\n",
       "      <th>0</th>\n",
       "      <td>0</td>\n",
       "      <td>0.973684</td>\n",
       "      <td>0.967742</td>\n",
       "      <td>0.915141</td>\n",
       "      <td>0.97992</td>\n",
       "      <td>0.979757</td>\n",
       "      <td>0.944162</td>\n",
       "      <td>0.91858</td>\n",
       "      <td>0.971993</td>\n",
       "      <td>0.982036</td>\n",
       "      <td>0.993311</td>\n",
       "      <td>50 (5)</td>\n",
       "    </tr>\n",
       "  </tbody>\n",
       "</table>\n",
       "</div>"
      ],
      "text/plain": [
       "   index  AnnualCrop    Forest  HerbaceousVegetation  Highway  Industrial  \\\n",
       "0      0    0.973684  0.967742              0.915141  0.97992    0.979757   \n",
       "\n",
       "    Pasture  PermanentCrop  Residential     River   SeaLake numlabels  \n",
       "0  0.944162        0.91858     0.971993  0.982036  0.993311    50 (5)  "
      ]
     },
     "execution_count": 34,
     "metadata": {},
     "output_type": "execute_result"
    }
   ],
   "source": [
    " small_df"
   ]
  },
  {
   "cell_type": "code",
   "execution_count": 35,
   "metadata": {},
   "outputs": [],
   "source": [
    "l = pd.melt(small_df, id_vars='numlabels', value_vars=class_names_dict[args['dataset']])\n",
    "l.columns = [\"# of labels \\n(per class)\", \"Class\", \"F1 Score\"]"
   ]
  },
  {
   "cell_type": "code",
   "execution_count": 36,
   "metadata": {},
   "outputs": [
    {
     "data": {
      "text/html": [
       "<div>\n",
       "<style scoped>\n",
       "    .dataframe tbody tr th:only-of-type {\n",
       "        vertical-align: middle;\n",
       "    }\n",
       "\n",
       "    .dataframe tbody tr th {\n",
       "        vertical-align: top;\n",
       "    }\n",
       "\n",
       "    .dataframe thead th {\n",
       "        text-align: right;\n",
       "    }\n",
       "</style>\n",
       "<table border=\"1\" class=\"dataframe\">\n",
       "  <thead>\n",
       "    <tr style=\"text-align: right;\">\n",
       "      <th></th>\n",
       "      <th># of labels \\n(per class)</th>\n",
       "      <th>Class</th>\n",
       "      <th>F1 Score</th>\n",
       "    </tr>\n",
       "  </thead>\n",
       "  <tbody>\n",
       "    <tr>\n",
       "      <th>0</th>\n",
       "      <td>50 (5)</td>\n",
       "      <td>AnnualCrop</td>\n",
       "      <td>0.973684</td>\n",
       "    </tr>\n",
       "    <tr>\n",
       "      <th>1</th>\n",
       "      <td>50 (5)</td>\n",
       "      <td>Forest</td>\n",
       "      <td>0.967742</td>\n",
       "    </tr>\n",
       "    <tr>\n",
       "      <th>2</th>\n",
       "      <td>50 (5)</td>\n",
       "      <td>HerbaceousVegetation</td>\n",
       "      <td>0.915141</td>\n",
       "    </tr>\n",
       "    <tr>\n",
       "      <th>3</th>\n",
       "      <td>50 (5)</td>\n",
       "      <td>Highway</td>\n",
       "      <td>0.979920</td>\n",
       "    </tr>\n",
       "    <tr>\n",
       "      <th>4</th>\n",
       "      <td>50 (5)</td>\n",
       "      <td>Industrial</td>\n",
       "      <td>0.979757</td>\n",
       "    </tr>\n",
       "    <tr>\n",
       "      <th>5</th>\n",
       "      <td>50 (5)</td>\n",
       "      <td>Pasture</td>\n",
       "      <td>0.944162</td>\n",
       "    </tr>\n",
       "    <tr>\n",
       "      <th>6</th>\n",
       "      <td>50 (5)</td>\n",
       "      <td>PermanentCrop</td>\n",
       "      <td>0.918580</td>\n",
       "    </tr>\n",
       "    <tr>\n",
       "      <th>7</th>\n",
       "      <td>50 (5)</td>\n",
       "      <td>Residential</td>\n",
       "      <td>0.971993</td>\n",
       "    </tr>\n",
       "    <tr>\n",
       "      <th>8</th>\n",
       "      <td>50 (5)</td>\n",
       "      <td>River</td>\n",
       "      <td>0.982036</td>\n",
       "    </tr>\n",
       "    <tr>\n",
       "      <th>9</th>\n",
       "      <td>50 (5)</td>\n",
       "      <td>SeaLake</td>\n",
       "      <td>0.993311</td>\n",
       "    </tr>\n",
       "  </tbody>\n",
       "</table>\n",
       "</div>"
      ],
      "text/plain": [
       "  # of labels \\n(per class)                 Class  F1 Score\n",
       "0                    50 (5)            AnnualCrop  0.973684\n",
       "1                    50 (5)                Forest  0.967742\n",
       "2                    50 (5)  HerbaceousVegetation  0.915141\n",
       "3                    50 (5)               Highway  0.979920\n",
       "4                    50 (5)            Industrial  0.979757\n",
       "5                    50 (5)               Pasture  0.944162\n",
       "6                    50 (5)         PermanentCrop  0.918580\n",
       "7                    50 (5)           Residential  0.971993\n",
       "8                    50 (5)                 River  0.982036\n",
       "9                    50 (5)               SeaLake  0.993311"
      ]
     },
     "execution_count": 36,
     "metadata": {},
     "output_type": "execute_result"
    }
   ],
   "source": [
    "l"
   ]
  },
  {
   "cell_type": "code",
   "execution_count": 37,
   "metadata": {},
   "outputs": [
    {
     "name": "stdout",
     "output_type": "stream",
     "text": [
      "\\begin{tabular}{llr}\n",
      "\\toprule\n",
      "\\# of labels \\textbackslash n(per class) &                Class &  F1 Score \\\\\n",
      "\\midrule\n",
      "                   50 (5) &           AnnualCrop &  0.973684 \\\\\n",
      "                   50 (5) &               Forest &  0.967742 \\\\\n",
      "                   50 (5) & HerbaceousVegetation &  0.915141 \\\\\n",
      "                   50 (5) &              Highway &  0.979920 \\\\\n",
      "                   50 (5) &           Industrial &  0.979757 \\\\\n",
      "                   50 (5) &              Pasture &  0.944162 \\\\\n",
      "                   50 (5) &        PermanentCrop &  0.918580 \\\\\n",
      "                   50 (5) &          Residential &  0.971993 \\\\\n",
      "                   50 (5) &                River &  0.982036 \\\\\n",
      "                   50 (5) &              SeaLake &  0.993311 \\\\\n",
      "\\bottomrule\n",
      "\\end{tabular}\n",
      "\n"
     ]
    },
    {
     "name": "stderr",
     "output_type": "stream",
     "text": [
      "/tmp/ipykernel_21886/3186058077.py:1: FutureWarning: In future versions `DataFrame.to_latex` is expected to utilise the base implementation of `Styler.to_latex` for formatting and rendering. The arguments signature may therefore change. It is recommended instead to use `DataFrame.style.to_latex` which also contains additional functionality.\n",
      "  print(l.to_latex(index=False))\n"
     ]
    }
   ],
   "source": [
    "print(l.to_latex(index=False))"
   ]
  },
  {
   "cell_type": "code",
   "execution_count": 43,
   "metadata": {},
   "outputs": [
    {
     "data": {
      "text/html": [
       "<div>\n",
       "<style scoped>\n",
       "    .dataframe tbody tr th:only-of-type {\n",
       "        vertical-align: middle;\n",
       "    }\n",
       "\n",
       "    .dataframe tbody tr th {\n",
       "        vertical-align: top;\n",
       "    }\n",
       "\n",
       "    .dataframe thead th {\n",
       "        text-align: right;\n",
       "    }\n",
       "</style>\n",
       "<table border=\"1\" class=\"dataframe\">\n",
       "  <thead>\n",
       "    <tr style=\"text-align: right;\">\n",
       "      <th></th>\n",
       "      <th># of labels \\n(per class)</th>\n",
       "      <th>Class</th>\n",
       "      <th>F1 Score</th>\n",
       "    </tr>\n",
       "  </thead>\n",
       "  <tbody>\n",
       "    <tr>\n",
       "      <th>3</th>\n",
       "      <td>50 (5)</td>\n",
       "      <td>Highway</td>\n",
       "      <td>0.98994</td>\n",
       "    </tr>\n",
       "  </tbody>\n",
       "</table>\n",
       "</div>"
      ],
      "text/plain": [
       "  # of labels \\n(per class)    Class  F1 Score\n",
       "3                    50 (5)  Highway   0.98994"
      ]
     },
     "execution_count": 43,
     "metadata": {},
     "output_type": "execute_result"
    }
   ],
   "source": [
    "l.loc[l[\"Class\"]==\"Highway\"]"
   ]
  },
  {
   "cell_type": "code",
   "execution_count": 44,
   "metadata": {},
   "outputs": [
    {
     "data": {
      "text/html": [
       "<div>\n",
       "<style scoped>\n",
       "    .dataframe tbody tr th:only-of-type {\n",
       "        vertical-align: middle;\n",
       "    }\n",
       "\n",
       "    .dataframe tbody tr th {\n",
       "        vertical-align: top;\n",
       "    }\n",
       "\n",
       "    .dataframe thead th {\n",
       "        text-align: right;\n",
       "    }\n",
       "</style>\n",
       "<table border=\"1\" class=\"dataframe\">\n",
       "  <thead>\n",
       "    <tr style=\"text-align: right;\">\n",
       "      <th></th>\n",
       "      <th># of labels \\n(per class)</th>\n",
       "      <th>Class</th>\n",
       "      <th>F1 Score</th>\n",
       "    </tr>\n",
       "  </thead>\n",
       "  <tbody>\n",
       "    <tr>\n",
       "      <th>5</th>\n",
       "      <td>50 (5)</td>\n",
       "      <td>Pasture</td>\n",
       "      <td>0.967419</td>\n",
       "    </tr>\n",
       "  </tbody>\n",
       "</table>\n",
       "</div>"
      ],
      "text/plain": [
       "  # of labels \\n(per class)    Class  F1 Score\n",
       "5                    50 (5)  Pasture  0.967419"
      ]
     },
     "execution_count": 44,
     "metadata": {},
     "output_type": "execute_result"
    }
   ],
   "source": [
    "l.loc[l[\"Class\"]==\"Pasture\"]"
   ]
  },
  {
   "cell_type": "code",
   "execution_count": 45,
   "metadata": {},
   "outputs": [
    {
     "data": {
      "image/png": "[encoded data removed]",
      "text/plain": [
       "<Figure size 1571.67x1000 with 1 Axes>"
      ]
     },
     "metadata": {},
     "output_type": "display_data"
    }
   ],
   "source": [
    "import seaborn as sns\n",
    "from matplotlib import pyplot as plt\n",
    "sns.set()\n",
    "sns.set(font_scale=3)  # crazy big\n",
    "with sns.plotting_context():\n",
    "    p = sns.catplot(x=\"F1 Score\", y=\"Class\", hue=\"# of labels \\n(per class)\", data=l, kind=\"bar\",palette=\"dark\",height=10,aspect=1.25)\n",
    "    # p.set_xticklabels(rotation=90)\n",
    "    p.set(xlim=[0.3,1.01])\n",
    "\n",
    "    # p.set(xticks=[0.4,0.6,0.8,1.0])\n",
    "plt.savefig(\"class_f1.pdf\")"
   ]
  },
  {
   "cell_type": "code",
   "execution_count": 20,
   "metadata": {},
   "outputs": [
    {
     "data": {
      "text/html": [
       "<div>\n",
       "<style scoped>\n",
       "    .dataframe tbody tr th:only-of-type {\n",
       "        vertical-align: middle;\n",
       "    }\n",
       "\n",
       "    .dataframe tbody tr th {\n",
       "        vertical-align: top;\n",
       "    }\n",
       "\n",
       "    .dataframe thead th {\n",
       "        text-align: right;\n",
       "    }\n",
       "</style>\n",
       "<table border=\"1\" class=\"dataframe\">\n",
       "  <thead>\n",
       "    <tr style=\"text-align: right;\">\n",
       "      <th></th>\n",
       "      <th># of labels \\n(per class)</th>\n",
       "      <th>Class</th>\n",
       "      <th>F1 Score</th>\n",
       "    </tr>\n",
       "  </thead>\n",
       "  <tbody>\n",
       "    <tr>\n",
       "      <th>9</th>\n",
       "      <td>50 (5)</td>\n",
       "      <td>SeaLake</td>\n",
       "      <td>0.993289</td>\n",
       "    </tr>\n",
       "  </tbody>\n",
       "</table>\n",
       "</div>"
      ],
      "text/plain": [
       "  # of labels \\n(per class)    Class  F1 Score\n",
       "9                    50 (5)  SeaLake  0.993289"
      ]
     },
     "execution_count": 20,
     "metadata": {},
     "output_type": "execute_result"
    }
   ],
   "source": [
    "l.loc[l[\"Class\"]==l[\"Class\"][9]]"
   ]
  },
  {
   "cell_type": "code",
   "execution_count": 21,
   "metadata": {},
   "outputs": [
    {
     "data": {
      "text/html": [
       "<div>\n",
       "<style scoped>\n",
       "    .dataframe tbody tr th:only-of-type {\n",
       "        vertical-align: middle;\n",
       "    }\n",
       "\n",
       "    .dataframe tbody tr th {\n",
       "        vertical-align: top;\n",
       "    }\n",
       "\n",
       "    .dataframe thead th {\n",
       "        text-align: right;\n",
       "    }\n",
       "</style>\n",
       "<table border=\"1\" class=\"dataframe\">\n",
       "  <thead>\n",
       "    <tr style=\"text-align: right;\">\n",
       "      <th></th>\n",
       "      <th># of labels \\n(per class)</th>\n",
       "      <th>Class</th>\n",
       "      <th>F1 Score</th>\n",
       "    </tr>\n",
       "  </thead>\n",
       "  <tbody>\n",
       "  </tbody>\n",
       "</table>\n",
       "</div>"
      ],
      "text/plain": [
       "Empty DataFrame\n",
       "Columns: [# of labels \n",
       "(per class), Class, F1 Score]\n",
       "Index: []"
      ]
     },
     "execution_count": 21,
     "metadata": {},
     "output_type": "execute_result"
    }
   ],
   "source": [
    "l.loc[l[\"Class\"]==\"mediumresidential\"]"
   ]
  },
  {
   "cell_type": "code",
   "execution_count": null,
   "metadata": {},
   "outputs": [],
   "source": []
  }
 ],
 "metadata": {
  "kernelspec": {
   "display_name": "Python 3 (ipykernel)",
   "language": "python",
   "name": "python3"
  },
  "language_info": {
   "codemirror_mode": {
    "name": "ipython",
    "version": 3
   },
   "file_extension": ".py",
   "mimetype": "text/x-python",
   "name": "python",
   "nbconvert_exporter": "python",
   "pygments_lexer": "ipython3",
   "version": "3.9.15"
  },
  "vscode": {
   "interpreter": {
    "hash": "5b3978d1cb0bd70de915a89505f2200e7652bb1fca6aa7e55aa30b9ad177cab2"
   }
  }
 },
 "nbformat": 4,
 "nbformat_minor": 4
}
